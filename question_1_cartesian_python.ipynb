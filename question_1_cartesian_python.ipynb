{
 "cells": [
  {
   "cell_type": "code",
   "execution_count": 9,
   "id": "2b524c5f",
   "metadata": {},
   "outputs": [
    {
     "name": "stdout",
     "output_type": "stream",
     "text": [
      "Enter the string:\n",
      "This declaration represents a political commitment among declaration partners to advance a positive vision for the Internet in this era of a united europe\n",
      "\n",
      "WORD AFTER REVERSING: \n",
      " Europe united a of era this in internet the for vision positive a advance to partners declaration among commitment political a represents declaration this\n",
      "\n",
      "Occurrence of words \n",
      "a  : 3\n",
      "this  : 2\n"
     ]
    }
   ],
   "source": [
    "string = input('Enter the string:\\n')\n",
    "s = string.split()[::-1]\n",
    "l = []\n",
    "for i in s:\n",
    "    l.append(i)\n",
    "message=(\" \".join(l))\n",
    "message=message.lower()\n",
    "message1=message.capitalize()\n",
    "print(\"\\nWORD AFTER REVERSING: \\n\",message1)\n",
    "split_it = message1.split()\n",
    "from collections import Counter\n",
    "Counter = Counter(split_it)\n",
    "most_occur = Counter.most_common(2)\n",
    "print(\"\\nOccurrence of words \")\n",
    "res = [lis[0] for lis in most_occur]\n",
    "res1=[lis[1] for lis in most_occur]\n",
    "for i in range (len(res)):\n",
    "    print(res[i],\" :\",res1[i])"
   ]
  },
  {
   "cell_type": "code",
   "execution_count": null,
   "id": "e6737265",
   "metadata": {},
   "outputs": [],
   "source": []
  }
 ],
 "metadata": {
  "kernelspec": {
   "display_name": "Python 3 (ipykernel)",
   "language": "python",
   "name": "python3"
  },
  "language_info": {
   "codemirror_mode": {
    "name": "ipython",
    "version": 3
   },
   "file_extension": ".py",
   "mimetype": "text/x-python",
   "name": "python",
   "nbconvert_exporter": "python",
   "pygments_lexer": "ipython3",
   "version": "3.9.7"
  }
 },
 "nbformat": 4,
 "nbformat_minor": 5
}
